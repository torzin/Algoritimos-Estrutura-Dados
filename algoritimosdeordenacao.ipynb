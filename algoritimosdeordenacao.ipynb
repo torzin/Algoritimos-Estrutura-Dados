{
 "cells": [
  {
   "cell_type": "markdown",
   "metadata": {},
   "source": [
    "# Algoritmos de Ordenação"
   ]
  },
  {
   "cell_type": "markdown",
   "metadata": {},
   "source": [
    "## Bubble Sort\n",
    "\n",
    "**Vantagens**\n",
    "1. Facilidade de implementação\n",
    "2. É estável\n",
    "\n",
    "**Desvantagens**\n",
    "1. Complexidade O(n**2)\n",
    "\n",
    "Compara cada número com o número seguinte e caso esse seja maior trocamos de posição"
   ]
  },
  {
   "cell_type": "code",
   "execution_count": 4,
   "metadata": {},
   "outputs": [
    {
     "data": {
      "text/plain": [
       "[1, 5, 5, 8, 12, 32, 200]"
      ]
     },
     "execution_count": 4,
     "metadata": {},
     "output_type": "execute_result"
    }
   ],
   "source": [
    "def bubble_sort(a_list):\n",
    "    list_length = len(a_list) - 1\n",
    "    for i in range(list_length):\n",
    "        for j in range(list_length):\n",
    "            if a_list[j] > a_list[j+1]:\n",
    "                a_list[j], a_list[j+1]= a_list[j+1], a_list[j]\n",
    "    return a_list\n",
    "\n",
    "bubble_sort([1,32,5,8,12,5,200])"
   ]
  },
  {
   "cell_type": "markdown",
   "metadata": {},
   "source": [
    "Método 'eficiente' do bubble sort, se o loop interno não fizer nenhuma troca significa que a lista está ordenada logo podemos para o loop aninhado"
   ]
  },
  {
   "cell_type": "code",
   "execution_count": 6,
   "metadata": {},
   "outputs": [
    {
     "data": {
      "text/plain": [
       "[1, 5, 5, 8, 12, 32, 200]"
      ]
     },
     "execution_count": 6,
     "metadata": {},
     "output_type": "execute_result"
    }
   ],
   "source": [
    "def bubble_sort(a_list):\n",
    "    list_length = len(a_list) - 1\n",
    "    for i in range(list_length):\n",
    "        no_swaps = True\n",
    "        for j in range(list_length):\n",
    "            if a_list[j] > a_list[j+1]:\n",
    "                a_list[j], a_list[j+1]= a_list[j+1], a_list[j]\n",
    "                no_swaps = False\n",
    "        if no_swaps:\n",
    "            return a_list\n",
    "    return a_list\n",
    "\n",
    "bubble_sort([1,32,5,8,12,5,200])"
   ]
  },
  {
   "cell_type": "markdown",
   "metadata": {},
   "source": [
    "**Ordenação estável**\n",
    "\n",
    "> Aquela que não interfere em nenhuma sequência, a não ser na especificada pela chave da ordenação"
   ]
  },
  {
   "cell_type": "markdown",
   "metadata": {},
   "source": [
    "## Insertion Sort\n",
    "\n",
    "**Vantagens**\n",
    "1. Complexidade O(n) em listas ordenadas ou quase ordenadas\n",
    "\n",
    "**Desvantagens**\n",
    "1. Complexidade O(n**2)"
   ]
  },
  {
   "cell_type": "code",
   "execution_count": 25,
   "metadata": {},
   "outputs": [],
   "source": [
    "def insertion_sort(a_list):\n",
    "    for i in range(1,len(a_list)):\n",
    "        value = a_list[i]\n",
    "        while i > 0 and a_list[i-1] > value:\n",
    "            a_list[i] = a_list[i-1]\n",
    "            i = i-1\n",
    "        a_list[i] = value\n",
    "    return a_list"
   ]
  },
  {
   "cell_type": "code",
   "execution_count": 26,
   "metadata": {},
   "outputs": [
    {
     "data": {
      "text/plain": [
       "[0, 1, 4, 5, 7, 8, 10]"
      ]
     },
     "execution_count": 26,
     "metadata": {},
     "output_type": "execute_result"
    }
   ],
   "source": [
    "insertion_sort([4,5,1,7,8,10,0])"
   ]
  },
  {
   "cell_type": "markdown",
   "metadata": {},
   "source": [
    "## Merge Sort\n",
    "\n",
    "**Vantagens**\n",
    "1. Complexidade O(n log n)\n",
    "\n"
   ]
  },
  {
   "cell_type": "code",
   "execution_count": 32,
   "metadata": {},
   "outputs": [],
   "source": [
    "def merge_sort(a_list):\n",
    "    if len(a_list) > 1:\n",
    "        mid = len(a_list) // 2\n",
    "        left_half = a_list[:mid]\n",
    "        right_half = a_list[mid:]\n",
    "        merge_sort(left_half)\n",
    "        merge_sort(right_half)\n",
    "\n",
    "        left_ind = 0\n",
    "        right_ind = 0\n",
    "        alist_ind = 0\n",
    "        while left_ind < len(left_half) and right_ind < len(right_half):\n",
    "            if left_half[left_ind] <= right_half[right_ind]:\n",
    "                a_list[alist_ind] = left_half[left_ind]\n",
    "                left_ind += 1\n",
    "            else:\n",
    "                a_list[alist_ind] = right_half[right_ind]\n",
    "                right_ind += 1\n",
    "            alist_ind += 1\n",
    "\n",
    "        while left_ind < len(left_half):\n",
    "            a_list[alist_ind]=left_half[left_ind]\n",
    "            left_ind += 1\n",
    "            alist_ind += 1\n",
    "\n",
    "        while right_ind < len(right_half):\n",
    "            a_list[alist_ind]=right_half[right_ind]\n",
    "            right_ind += 1\n",
    "            alist_ind += 1\n",
    "    return a_list"
   ]
  },
  {
   "cell_type": "code",
   "execution_count": 33,
   "metadata": {},
   "outputs": [
    {
     "data": {
      "text/plain": [
       "[0, 1, 4, 5, 7, 8, 10]"
      ]
     },
     "execution_count": 33,
     "metadata": {},
     "output_type": "execute_result"
    }
   ],
   "source": [
    "merge_sort([4,5,1,7,8,10,0])"
   ]
  },
  {
   "cell_type": "code",
   "execution_count": null,
   "metadata": {},
   "outputs": [],
   "source": []
  }
 ],
 "metadata": {
  "kernelspec": {
   "display_name": "Python 3",
   "language": "python",
   "name": "python3"
  },
  "language_info": {
   "codemirror_mode": {
    "name": "ipython",
    "version": 3
   },
   "file_extension": ".py",
   "mimetype": "text/x-python",
   "name": "python",
   "nbconvert_exporter": "python",
   "pygments_lexer": "ipython3",
   "version": "3.12.0"
  }
 },
 "nbformat": 4,
 "nbformat_minor": 2
}
